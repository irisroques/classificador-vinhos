{
  "nbformat": 4,
  "nbformat_minor": 0,
  "metadata": {
    "colab": {
      "name": "experimento_dermatites.ipynb",
      "provenance": [],
      "collapsed_sections": [],
      "authorship_tag": "ABX9TyOqgwtq/Fpen2kvYQF5jjSt",
      "include_colab_link": true
    },
    "kernelspec": {
      "name": "python3",
      "display_name": "Python 3"
    },
    "language_info": {
      "name": "python"
    }
  },
  "cells": [
    {
      "cell_type": "markdown",
      "metadata": {
        "id": "view-in-github",
        "colab_type": "text"
      },
      "source": [
        "<a href=\"https://colab.research.google.com/github/irisroques/diagnostico-dermatite/blob/main/experimento_dermatites.ipynb\" target=\"_parent\"><img src=\"https://colab.research.google.com/assets/colab-badge.svg\" alt=\"Open In Colab\"/></a>"
      ]
    },
    {
      "cell_type": "markdown",
      "metadata": {
        "id": "snGbTO5_F80y"
      },
      "source": [
        "# Modelo para Diagnostico de Dermatites\n",
        "Dupla: Fernanda Alves e Victoria Iris"
      ]
    },
    {
      "cell_type": "code",
      "metadata": {
        "colab": {
          "base_uri": "https://localhost:8080/"
        },
        "id": "MpgYXhQlPuwl",
        "outputId": "e79d4196-ec1e-4dd8-ba1c-bd59a06149bd"
      },
      "source": [
        "from google.colab import drive\n",
        "drive.mount(\"/content/gdrive\") \n",
        "\n"
      ],
      "execution_count": null,
      "outputs": [
        {
          "output_type": "stream",
          "text": [
            "Mounted at /content/gdrive\n"
          ],
          "name": "stdout"
        }
      ]
    },
    {
      "cell_type": "code",
      "metadata": {
        "id": "RAPr20wUjAy7"
      },
      "source": [
        "import pandas as pd\n",
        "dermatology = pd.read_csv('/content/gdrive/My Drive/Mestrado - Artigos/AM - Diagnostico de Dermatites/dermatology_csv.csv')\n"
      ],
      "execution_count": null,
      "outputs": []
    },
    {
      "cell_type": "markdown",
      "metadata": {
        "id": "vuyyEH2dZO_m"
      },
      "source": [
        "## Pre processamento"
      ]
    },
    {
      "cell_type": "code",
      "metadata": {
        "id": "tBP1gQ7wo_2c"
      },
      "source": [
        "dermatology[dermatology.isnull().any(axis=1)] #encontrando valores faltosos"
      ],
      "execution_count": null,
      "outputs": []
    },
    {
      "cell_type": "markdown",
      "metadata": {
        "id": "RApF1CDZZrTf"
      },
      "source": [
        "Os valores faltantes no dataset são valores de idade. A idade é um fator de impacto em patologias dermatologicas pois a pele se torna mais frágil e quando se é criança o sistema imunológico não está totalmente desenvolvido. Sendo assim, optamos por retirar as instâncias sem o valor.  \n",
        "\n"
      ]
    },
    {
      "cell_type": "code",
      "metadata": {
        "id": "VM-9zAOKZmB0"
      },
      "source": [
        "dermatology_clean = dermatology.dropna() #excluindo instancias com valores faltosos\n",
        "f_dermatology = dermatology_clean.drop('class', axis=1) #separando as features dos alvos\n",
        "t_dermatology = dermatology_clean['class'] # criando vetor alvo\n"
      ],
      "execution_count": null,
      "outputs": []
    }
  ]
}